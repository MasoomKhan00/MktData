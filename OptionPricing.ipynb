{
 "cells": [
  {
   "cell_type": "code",
   "execution_count": 6,
   "metadata": {},
   "outputs": [],
   "source": [
    "import numpy as np\n",
    "from math import log,sqrt,exp\n",
    "from time import time\n",
    "from random import gauss,seed\n",
    "import pandas as pd"
   ]
  },
  {
   "cell_type": "code",
   "execution_count": 7,
   "metadata": {},
   "outputs": [],
   "source": [
    "no_sim = [10000,20000,30000,40000]"
   ]
  },
  {
   "cell_type": "code",
   "execution_count": 9,
   "metadata": {},
   "outputs": [],
   "source": [
    "# MCS valuation of European call option with Numpy\n",
    "np.random.seed(20000)\n",
    "t0 = time()"
   ]
  },
  {
   "cell_type": "code",
   "execution_count": 11,
   "metadata": {},
   "outputs": [
    {
     "name": "stdout",
     "output_type": "stream",
     "text": [
      "########################## Europena Option Estimation Values for GBM,Euler-Maruyama & Milstein #################\n",
      "                 GBM  Euler-Maruyama  Milstein\n",
      "sim 10,000  0.896641        0.911223  0.910896\n",
      "sim 20,000  0.909789        0.902160  0.904427\n",
      "sim 30,000  0.910706        0.910795  0.899826\n",
      "sim 40,000  0.902655        0.904514  0.899847\n",
      "########################## Calculated MSE for GBM,Euler-Maruyama & Milstein #################\n",
      "                 GBM  Euler-Maruyama  Milstein\n",
      "sim 10,000  0.012612        0.147617  0.147926\n",
      "sim 20,000  0.009016        0.104591  0.105254\n",
      "sim 30,000  0.007416        0.085222  0.084567\n",
      "sim 40,000  0.006352        0.073958  0.073421\n"
     ]
    }
   ],
   "source": [
    "# Parameters\n",
    "S0 = 100; K = 100; T = 1.0; r = 0.05; sigma = 0.2\n",
    "M = 50; dt = T/M; #I = 10000\n",
    "results_prices = []\n",
    "results_se = []\n",
    "for I in no_sim:\n",
    "    results_prices_I = []\n",
    "    results_se_I = []\n",
    "    # Simulating I Paths with M times Steps using GBM exact solution!\n",
    "    S = np.zeros((M+1,I))\n",
    "    S[0] = S0\n",
    "    for t in range(1,M+1):\n",
    "        z = np.random.standard_normal(I) # Psedu random numbers\n",
    "        S[t] = S[t-1]*np.exp((r-0.5*sigma**2)*dt+sigma*sqrt(dt)*z)\n",
    "        # Vectorized operation per time step over all paths\n",
    "    #Calculating the MCS estimators\n",
    "    C0_gbm = exp(-r*t)*np.sum(np.maximum(S[-1]-K,0))/I\n",
    "    C0_gbm_se = exp(-r*t)*np.std(np.maximum(S[-1]-K,0))/np.sqrt(I)\n",
    "    results_prices_I.append(C0_gbm)\n",
    "    results_se_I.append(C0_gbm_se)\n",
    "    \n",
    "    # Simulating I paths with M time steps using Euler_Maruyama Method:\n",
    "    S=np.zeros((M+1,I))\n",
    "    S[0] = S0\n",
    "    for t in range(1,M+1):\n",
    "        z = np.random.standard_normal(I) # Psedu random numbers\n",
    "        S[t] = S[t-1]*(1+r*dt+sigma*sqrt(dt)*z)\n",
    "         # Vectorized operation per time step over all paths\n",
    "    #Calculating the MCS estimators\n",
    "    C0_EM = exp(-r*t)*np.sum(np.maximum(S[-1]-K,0))/I\n",
    "    C0_EM_se = exp(-r*T)*np.std(np.maximum(S[-1]-K,0))/np.sqrt(I)\n",
    "    results_prices_I.append(C0_EM)\n",
    "    results_se_I.append(C0_EM_se)\n",
    "    \n",
    "    #Simulating I paths with M time steps using Milstein method:\n",
    "    S = np.zeros((M+1,I))\n",
    "    S[0] = S0\n",
    "    for t in range(1,M+1):\n",
    "        z = np.random.standard_normal(I) # Psedu random numbers\n",
    "        S[t] = S[t-1]*(1+r*dt+sigma*sqrt(dt)*z + 0.5*sigma**2*((sqrt(dt)*z)**2-dt))\n",
    "         # Vectorized operation per time step over all paths\n",
    "    #Calculating the MCS estimators\n",
    "    C0_MS = exp(-r*t)*np.sum(np.maximum(S[-1]-K,0))/I\n",
    "    C0_MS_se = exp(-r*T)*np.std(np.maximum(S[-1]-K,0))/np.sqrt(I)\n",
    "    results_prices_I.append(C0_MS)\n",
    "    results_se_I.append(C0_MS_se)\n",
    "    \n",
    "    results_prices.append(results_prices_I)\n",
    "    results_se.append(results_se_I)\n",
    "\n",
    "results_prices_df = pd.DataFrame(results_prices,columns=['GBM','Euler-Maruyama','Milstein'],index=\n",
    "                                ['sim 10,000','sim 20,000','sim 30,000','sim 40,000'])\n",
    "\n",
    "print(\"########################## Europena Option Estimation Values for GBM,Euler-Maruyama & Milstein #################\")\n",
    "print(results_prices_df)\n",
    "    \n",
    "results_SE_df = pd.DataFrame(results_se,columns=['GBM','Euler-Maruyama','Milstein'],index=\n",
    "                                ['sim 10,000','sim 20,000','sim 30,000','sim 40,000'])\n",
    "\n",
    "print(\"########################## Calculated MSE for GBM,Euler-Maruyama & Milstein #################\")\n",
    "print(results_SE_df)"
   ]
  },
  {
   "cell_type": "code",
   "execution_count": null,
   "metadata": {},
   "outputs": [],
   "source": []
  },
  {
   "cell_type": "code",
   "execution_count": null,
   "metadata": {},
   "outputs": [],
   "source": []
  },
  {
   "cell_type": "code",
   "execution_count": null,
   "metadata": {},
   "outputs": [],
   "source": []
  }
 ],
 "metadata": {
  "kernelspec": {
   "display_name": "Python 3",
   "language": "python",
   "name": "python3"
  },
  "language_info": {
   "codemirror_mode": {
    "name": "ipython",
    "version": 3
   },
   "file_extension": ".py",
   "mimetype": "text/x-python",
   "name": "python",
   "nbconvert_exporter": "python",
   "pygments_lexer": "ipython3",
   "version": "3.7.4"
  }
 },
 "nbformat": 4,
 "nbformat_minor": 2
}
